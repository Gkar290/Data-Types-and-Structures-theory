{
  "nbformat": 4,
  "nbformat_minor": 0,
  "metadata": {
    "colab": {
      "provenance": []
    },
    "kernelspec": {
      "name": "python3",
      "display_name": "Python 3"
    },
    "language_info": {
      "name": "python"
    }
  },
  "cells": [
    {
      "cell_type": "code",
      "execution_count": null,
      "metadata": {
        "id": "rXuNC_EDNpE1"
      },
      "outputs": [],
      "source": []
    },
    {
      "cell_type": "markdown",
      "source": [
        "QSN-1-What are data structures, and why are they important.\n",
        "\n",
        "ANS-Data structures are a way to organize and store data in a computer so that it can be efficiently accessed, and manipulated.\n",
        "examples of data structure in python are SET,LIST,TUPLE,DICTIONARY.\n",
        "Data structures are important for efficient data storage,fast data retrevival as well as it helps organize code in a logical and maintainable way, making it easier to understand, modify, and extend.\n"
      ],
      "metadata": {
        "id": "MObySfjEOXmF"
      }
    },
    {
      "cell_type": "code",
      "source": [
        "\"\"\"\n",
        "QSN-2-Explain the difference between mutable and immutable data types with examples.\n",
        "ANS-\n",
        "Mutable data types are those that can be modified or changed after they are created.\n",
        "In other words, their state can be altered.(example-list/dictionary/sets)\n",
        "where asImmutable data types are those that cannot be modified or changed after they are created.\n",
        "In other words, their state cannot be altered.(example-tuples)\n",
        "\"\"\"\n",
        "#example of a list to demonstrate its mutability.\n",
        "course=['math','history','english','science']\n",
        "course[0]='computer science'\n",
        "print(course)"
      ],
      "metadata": {
        "colab": {
          "base_uri": "https://localhost:8080/"
        },
        "id": "drPklhvuPuBN",
        "outputId": "2c979fea-b0b4-4165-e821-c91844a5946b"
      },
      "execution_count": null,
      "outputs": [
        {
          "output_type": "stream",
          "name": "stdout",
          "text": [
            "['computer science', 'history', 'english', 'science']\n"
          ]
        }
      ]
    },
    {
      "cell_type": "code",
      "source": [
        "#QSN-2-PART-2example of a tuple on its immutability as error will be expected if we try to modify Any data in it.\n",
        "tuple_number=(1,2,3,4,5)\n",
        "tuple_number[0]=10\n",
        "print(tuple_number)"
      ],
      "metadata": {
        "colab": {
          "base_uri": "https://localhost:8080/",
          "height": 193
        },
        "id": "8q-wknBgSMLr",
        "outputId": "6af4dd38-ed8e-40b0-a608-ef3fd9390a6e"
      },
      "execution_count": null,
      "outputs": [
        {
          "output_type": "error",
          "ename": "TypeError",
          "evalue": "'tuple' object does not support item assignment",
          "traceback": [
            "\u001b[0;31m---------------------------------------------------------------------------\u001b[0m",
            "\u001b[0;31mTypeError\u001b[0m                                 Traceback (most recent call last)",
            "\u001b[0;32m<ipython-input-4-e49ee1b74568>\u001b[0m in \u001b[0;36m<cell line: 3>\u001b[0;34m()\u001b[0m\n\u001b[1;32m      1\u001b[0m \u001b[0;31m#QSN-2-PART-2example of a tuple on its immutability as error will be expected if we try to modify Any data in it.\u001b[0m\u001b[0;34m\u001b[0m\u001b[0;34m\u001b[0m\u001b[0m\n\u001b[1;32m      2\u001b[0m \u001b[0mtuple_number\u001b[0m\u001b[0;34m=\u001b[0m\u001b[0;34m(\u001b[0m\u001b[0;36m1\u001b[0m\u001b[0;34m,\u001b[0m\u001b[0;36m2\u001b[0m\u001b[0;34m,\u001b[0m\u001b[0;36m3\u001b[0m\u001b[0;34m,\u001b[0m\u001b[0;36m4\u001b[0m\u001b[0;34m,\u001b[0m\u001b[0;36m5\u001b[0m\u001b[0;34m)\u001b[0m\u001b[0;34m\u001b[0m\u001b[0;34m\u001b[0m\u001b[0m\n\u001b[0;32m----> 3\u001b[0;31m \u001b[0mtuple_number\u001b[0m\u001b[0;34m[\u001b[0m\u001b[0;36m0\u001b[0m\u001b[0;34m]\u001b[0m\u001b[0;34m=\u001b[0m\u001b[0;36m10\u001b[0m\u001b[0;34m\u001b[0m\u001b[0;34m\u001b[0m\u001b[0m\n\u001b[0m\u001b[1;32m      4\u001b[0m \u001b[0mprint\u001b[0m\u001b[0;34m(\u001b[0m\u001b[0mtuple_number\u001b[0m\u001b[0;34m)\u001b[0m\u001b[0;34m\u001b[0m\u001b[0;34m\u001b[0m\u001b[0m\n",
            "\u001b[0;31mTypeError\u001b[0m: 'tuple' object does not support item assignment"
          ]
        }
      ]
    },
    {
      "cell_type": "markdown",
      "source": [
        "QSN-3-What are the main differences between lists and tuples in Python.\n",
        "ANS-\n",
        "As we discussed in qsn-2 that list is a mutable object where we can modify elemnts in it while tuple is an immutable object,if we try to modify any data inside a tuple,an error will be expected by default."
      ],
      "metadata": {
        "id": "eyWlU4O0S2rO"
      }
    },
    {
      "cell_type": "code",
      "source": [
        "\"\"\"\n",
        "QSN-4-Describe how dictionaries store data.\n",
        "ANS-Dictionaries store data as a collection of key-value pairs. Each key is unique and maps to a specific value.\n",
        "\"\"\"\n",
        "biodata={'name':'gaurab','age':32,'gender':'male'}\n",
        "print(biodata)"
      ],
      "metadata": {
        "colab": {
          "base_uri": "https://localhost:8080/"
        },
        "id": "2JJ2pLNgT8la",
        "outputId": "bac10e22-7885-4ccd-8942-255a3e4a002b"
      },
      "execution_count": null,
      "outputs": [
        {
          "output_type": "stream",
          "name": "stdout",
          "text": [
            "{'name': 'gaurab', 'age': 32, 'gender': 'male'}\n"
          ]
        }
      ]
    },
    {
      "cell_type": "code",
      "source": [
        "\"\"\"\n",
        "QSN-5-Why might we use a set instead of a list in Python.\n",
        "ANS-\n",
        "We use set instead of list to avoid duplication.\n",
        "Sets automatically eliminate duplicate elements, ensuring that all elements are unique.\n",
        "Lists, on the other hand, allow duplicate elements.\n",
        "\"\"\"\n",
        "# Using a set(Duplicate ID, automatically ignored)\n",
        "set_sample = set()\n",
        "set_sample.add(1234)\n",
        "set_sample.add(4567)\n",
        "set_sample.add(1234)\n",
        "print(set_sample)\n",
        "#using a list(Duplicate ID, not ignored)\n",
        "list_sample = []\n",
        "list_sample.append(1234)\n",
        "list_sample.append(4567)\n",
        "list_sample.append(1234)\n",
        "print(list_sample)\n"
      ],
      "metadata": {
        "id": "jmoQRvO3VZ44",
        "colab": {
          "base_uri": "https://localhost:8080/"
        },
        "outputId": "c1e455f7-68f6-4966-8544-9c84801cbd52"
      },
      "execution_count": null,
      "outputs": [
        {
          "output_type": "stream",
          "name": "stdout",
          "text": [
            "{1234, 4567}\n",
            "[1234, 4567, 1234]\n"
          ]
        }
      ]
    },
    {
      "cell_type": "code",
      "source": [
        "\"\"\"\n",
        "QSN-6-What is a string in Python, and how is it different from a list.\n",
        "ANS-\n",
        "In Python, a string is a sequence of characters, such as letters, numbers, or symbols, enclosed in eithersingle, double, or triple quotes.\n",
        "On the other hand, a list is a collection of items that can be of any data type, including strings, integers, floats, and other lists.\n",
        "\"\"\"\n",
        "#example of string\n",
        "name='gaurab'\n",
        "print(name)\n",
        "type(name)"
      ],
      "metadata": {
        "colab": {
          "base_uri": "https://localhost:8080/"
        },
        "id": "uJpjcZ525221",
        "outputId": "7def494f-ff9c-44e5-882c-de15699fd4b7"
      },
      "execution_count": null,
      "outputs": [
        {
          "output_type": "stream",
          "name": "stdout",
          "text": [
            "gaurab\n"
          ]
        },
        {
          "output_type": "execute_result",
          "data": {
            "text/plain": [
              "str"
            ]
          },
          "metadata": {},
          "execution_count": 10
        }
      ]
    },
    {
      "cell_type": "code",
      "source": [
        "#QSN-6-PART-2\n",
        "#Example of list.\n",
        "#example of list\n",
        "list_example=[1,2,3,4,5]\n",
        "print(list_example)\n",
        "type(list_example)"
      ],
      "metadata": {
        "colab": {
          "base_uri": "https://localhost:8080/"
        },
        "id": "YBsJwl2n8Iyo",
        "outputId": "9e3674e9-8fef-414e-f4ff-03e84511ea32"
      },
      "execution_count": null,
      "outputs": [
        {
          "output_type": "stream",
          "name": "stdout",
          "text": [
            "[1, 2, 3, 4, 5]\n"
          ]
        },
        {
          "output_type": "execute_result",
          "data": {
            "text/plain": [
              "list"
            ]
          },
          "metadata": {},
          "execution_count": 11
        }
      ]
    },
    {
      "cell_type": "markdown",
      "source": [
        "QSN-7-How do tuples ensure data integrity in Python.\n",
        "ANS-\n",
        "Tuples in Python ensure data integrity in various way.\n",
        "Tuples are immutable, meaning their contents cannot be modified after creation. This ensures that once a tuple is created, its data remains consistent and unchanged so it can be safely accessed and shared between multiple threads without fear of data corruption and Because tuples are immutable, they protect against accidental modification of data.\n"
      ],
      "metadata": {
        "id": "ypQqxnym9Jy1"
      }
    },
    {
      "cell_type": "code",
      "source": [
        "\"\"\"\n",
        "QSN-9-Can lists contain different data types in Python.\n",
        "ANS-\n",
        "python lists can contain a wide range of data types, including:\n",
        "Integers,Floats,Complex numbers,Strings,Booleans,None,Lists,tuples,sets,Dictionaries.\n",
        "\"\"\"\n",
        "list_task=[1,2.2,3+5j,True,\"Gaurab\"]\n",
        "print(list_task)\n",
        "type(list_task)"
      ],
      "metadata": {
        "colab": {
          "base_uri": "https://localhost:8080/"
        },
        "id": "tER7Il3WA7GQ",
        "outputId": "1d7b9497-84cb-45ca-c384-6b6d1e6aafc7"
      },
      "execution_count": null,
      "outputs": [
        {
          "output_type": "stream",
          "name": "stdout",
          "text": [
            "[1, 2.2, (3+5j), True, 'Gaurab']\n"
          ]
        },
        {
          "output_type": "execute_result",
          "data": {
            "text/plain": [
              "list"
            ]
          },
          "metadata": {},
          "execution_count": 12
        }
      ]
    },
    {
      "cell_type": "markdown",
      "source": [
        "QSN-10-Explain why strings are immutable in Python.\n",
        "\n",
        "ANS-\n",
        "in python once a string is created, its contents cannot be modified. There are several reasons for this design decision:\n",
        "\n",
        "1. strings prevent unintended changes to sensitive data, reducing the risk of security vulnerabilities.\n",
        "2. strings are thread-safe, meaning they can be safely shared between multiple threads without fear of data corruption."
      ],
      "metadata": {
        "id": "uA4OWVZFCimw"
      }
    },
    {
      "cell_type": "code",
      "source": [
        "\"\"\"\n",
        "QSN-11-What advantages do dictionaries offer over lists for certain tasks.\n",
        "ANS-Dictionaries can be more memory-efficient than lists, especially when dealing with large amounts of sparse data.\n",
        "Dictionaries can improve code readability by providing a clear and concise way to represent and access data.\n",
        "Dictionaries allow for easy modification of existing data, as well as the addition of new data.\n",
        "Here's an example that demonstrates the advantages of dictionaries over lists:\n",
        "\"\"\"\n",
        "#using list\n",
        "employee = [ [\"Ajay\", 32, 1112],[\"Bijay\", 22, 195],[\"Sanjay\", 28, 104]]\n",
        "# To access a employe's employee id, we need to iterate through the list\n",
        "for employee in employee:\n",
        "    if employee[0] == \"Ajay\":\n",
        "        print(employee[2])\n",
        "#But if we are using same data but in dictionary format than process will be lesser lenghty but output will be more efficient.\n",
        "employee = {\"Ajay\": [32, 1112], \"Bijay\": [22, 195], \"Sanjay\": [28, 104]}\n",
        "print(employee[\"Ajay\"][1])\n"
      ],
      "metadata": {
        "id": "LGDDd6vqBqT1",
        "colab": {
          "base_uri": "https://localhost:8080/"
        },
        "outputId": "41c223c6-0c1c-4970-ca4f-6662ec890767"
      },
      "execution_count": null,
      "outputs": [
        {
          "output_type": "stream",
          "name": "stdout",
          "text": [
            "1112\n",
            "1112\n"
          ]
        }
      ]
    },
    {
      "cell_type": "markdown",
      "source": [
        "QSN-12-Describe a scenario where using a tuple would be preferable over a list.\n",
        "ANS-\n",
        "Tuple is immutable in nature so any data need to unchanged for ever have to be use a tuple insted of list where data inside a list can be modified (mutable).\n",
        "apart from that Tuples are faster and more memory-efficient than lists so using tuples can improve performance.\n"
      ],
      "metadata": {
        "id": "9l50dALpkooL"
      }
    },
    {
      "cell_type": "code",
      "source": [
        "\"\"\"\n",
        "QSN-13-How do sets handle duplicate values in Python.\n",
        "ANS-\n",
        "Set automatically eliminated duplicate values in it.\n",
        "demonstarting with an example\n",
        "\"\"\"\n",
        "my_task = {1, 2, 3, 2, 4, 4, 5}\n",
        "print(my_task)\n"
      ],
      "metadata": {
        "colab": {
          "base_uri": "https://localhost:8080/"
        },
        "id": "oArlqKthl1Mi",
        "outputId": "2c6b756e-3923-4e50-e825-e718702b9bb0"
      },
      "execution_count": null,
      "outputs": [
        {
          "output_type": "stream",
          "name": "stdout",
          "text": [
            "{1, 2, 3, 4, 5}\n"
          ]
        }
      ]
    },
    {
      "cell_type": "code",
      "source": [
        "#QSN-14-How does the “in” keyword work differently for lists and dictionaries.\n",
        "#ANS-Example of a list using in keyword.\n",
        "#It iterates through the list and returns True if the value is found, and False otherwise.\n",
        "my_task2 = [1, 2, 3, 4, 5]\n",
        "print(3 in my_task2)\n",
        "print(6 in my_task2)\n",
        "#example of a dictionary by using in keyword in it.\n",
        "#For dictionaries, the in keyword checks if a key is present in the dictionary.It does not check for values.\n",
        "my_task3 = {\"name\": \"gaurab\", \"age\": 32}\n",
        "print(\"name\" in my_task3)\n",
        "print(\"age\" in my_task3)\n",
        "print(\"religion\" in my_task3)\n",
        "print(\"gaurab\" in my_task3)\n",
        "\n",
        "\n",
        "\n"
      ],
      "metadata": {
        "colab": {
          "base_uri": "https://localhost:8080/"
        },
        "id": "IjjmO5X5moU9",
        "outputId": "3e032685-9d8f-4fbd-c804-b1fb75526065"
      },
      "execution_count": null,
      "outputs": [
        {
          "output_type": "stream",
          "name": "stdout",
          "text": [
            "True\n",
            "False\n",
            "True\n",
            "True\n",
            "False\n",
            "False\n"
          ]
        }
      ]
    },
    {
      "cell_type": "code",
      "source": [
        "\"\"\"\n",
        "QSN-15-Can you modify the elements of a tuple? Explain why or why not.\n",
        "ANS-\n",
        "WE cannot modify the elements of a tuple in Python. Tuples are immutable, meaning that once a tuple is created, its contents cannot be changed.\n",
        "\n",
        "Here's an example:\n",
        "\"\"\"\n",
        "my_tuple = (1, 2, 3)\n",
        "my_tuple[0] = 10\n",
        "#Attempt to modify the tuple will be throw an error.\n",
        "\n"
      ],
      "metadata": {
        "colab": {
          "base_uri": "https://localhost:8080/",
          "height": 211
        },
        "id": "w59kMtycppwH",
        "outputId": "5f47525b-7be8-4b80-cc6d-7b1bcc0b40f0"
      },
      "execution_count": null,
      "outputs": [
        {
          "output_type": "error",
          "ename": "TypeError",
          "evalue": "'tuple' object does not support item assignment",
          "traceback": [
            "\u001b[0;31m---------------------------------------------------------------------------\u001b[0m",
            "\u001b[0;31mTypeError\u001b[0m                                 Traceback (most recent call last)",
            "\u001b[0;32m<ipython-input-7-e4e0e91305ac>\u001b[0m in \u001b[0;36m<cell line: 9>\u001b[0;34m()\u001b[0m\n\u001b[1;32m      7\u001b[0m \"\"\"\n\u001b[1;32m      8\u001b[0m \u001b[0mmy_tuple\u001b[0m \u001b[0;34m=\u001b[0m \u001b[0;34m(\u001b[0m\u001b[0;36m1\u001b[0m\u001b[0;34m,\u001b[0m \u001b[0;36m2\u001b[0m\u001b[0;34m,\u001b[0m \u001b[0;36m3\u001b[0m\u001b[0;34m)\u001b[0m\u001b[0;34m\u001b[0m\u001b[0;34m\u001b[0m\u001b[0m\n\u001b[0;32m----> 9\u001b[0;31m \u001b[0mmy_tuple\u001b[0m\u001b[0;34m[\u001b[0m\u001b[0;36m0\u001b[0m\u001b[0;34m]\u001b[0m \u001b[0;34m=\u001b[0m \u001b[0;36m10\u001b[0m\u001b[0;34m\u001b[0m\u001b[0;34m\u001b[0m\u001b[0m\n\u001b[0m\u001b[1;32m     10\u001b[0m \u001b[0;31m#Attempt to modify the tuple\u001b[0m\u001b[0;34m\u001b[0m\u001b[0;34m\u001b[0m\u001b[0m\n\u001b[1;32m     11\u001b[0m \u001b[0;34m\u001b[0m\u001b[0m\n",
            "\u001b[0;31mTypeError\u001b[0m: 'tuple' object does not support item assignment"
          ]
        }
      ]
    },
    {
      "cell_type": "code",
      "source": [
        "\"\"\"\n",
        "QSN-16-What is a nested dictionary, and give an example of its use case.\n",
        "ANS-dictionary allows us to store complex, hierarchical data structures.\n",
        "here is an example of a nested dictionary:\n",
        "\"\"\"\n",
        "employee_data= {\n",
        "    \"Ajay\": {\"age\":25, \"id\": 9010, \"Team\": 1},\n",
        "    \"Bijay\": {\"age\":30, \"id\": 9001, \"Team\": 2},\n",
        "    \"Sanjay\": {\"age\": 28, \"id\": 9000, \"Team\": 3}}\n",
        "    # Accessing values in the nested dictionary\n",
        "print(employee_data[\"Bijay\"][\"Team\"])\n",
        "print(employee_data[\"Ajay\"][\"id\"])\n",
        "\n"
      ],
      "metadata": {
        "colab": {
          "base_uri": "https://localhost:8080/"
        },
        "id": "exXdruZxqID-",
        "outputId": "a98fff85-7562-41b2-bb6a-eb2d1bea59e0"
      },
      "execution_count": null,
      "outputs": [
        {
          "output_type": "stream",
          "name": "stdout",
          "text": [
            "2\n",
            "9010\n"
          ]
        }
      ]
    },
    {
      "cell_type": "markdown",
      "source": [
        "QSN-18-In what situations are lists preferred over dictionaries.\n",
        "ANS-\n",
        "lists are preferred over dictionaries in the many situations,\n",
        "\n",
        "-Dictionaries are more suitable for heterogeneous data.but if data is homogeneous,list is a better option.\n",
        "When we need to access elements by their index, lists are more suitable. Lists support indexing, slicing, and other sequence operations.\n",
        "-When working with simple, flat data structures, lists are often sufficient. Dictionaries are more suitable for complex, nested data structures.\n",
        "-When serializing and deserializing data, lists can be more convenient because they maintain their order and can be easily converted to and from other formats.\n",
        "\n",
        "\n"
      ],
      "metadata": {
        "id": "vxgZItlps6pf"
      }
    },
    {
      "cell_type": "code",
      "source": [
        "\"\"\"\n",
        "QSN-19-Why are dictionaries considered unordered, and how does that affect data retrievaL.\n",
        "\n",
        "ANS-When we add a key-value pair to a dictionary, the key is hashed using a hash function,\n",
        "which generates a hash value. This hash value is used to determine the location of the key-value pair in the hash table.\n",
        "for the nature of dictionaries affects data retrieval in the following ways like;\n",
        "-we cannot access a specific key-value pair by its index.\n",
        "-when iterating over a dictionary, we cannot assume that the key-value pairs will be returned in a specific order.\n",
        "example;\n",
        "\"\"\"\n",
        "emp_data = {'emp id': 123, 'age': 32, 'team': 2}\n",
        "for key, value in emp_data.items():\n",
        "    print(f\"{key}: {value}\")\n",
        "#The output of this code may vary, as the order of key-value pairs in the dictionary is not guaranteed.\n",
        "\n"
      ],
      "metadata": {
        "colab": {
          "base_uri": "https://localhost:8080/"
        },
        "id": "jM2B7R6RKpeh",
        "outputId": "8c540707-a28d-4d25-b992-eebb9f5c42c7"
      },
      "execution_count": 5,
      "outputs": [
        {
          "output_type": "stream",
          "name": "stdout",
          "text": [
            "emp id: 123\n",
            "age: 32\n",
            "team: 2\n"
          ]
        }
      ]
    },
    {
      "cell_type": "markdown",
      "source": [
        "QSN-20-Explain the difference between a list and a dictionary in terms of data retrieval.\n",
        "\n",
        "*In dictionary we access values using their corresponding keys where in list we can access elements using their index.\n",
        "\n",
        "*in dictionay we cannot access values in a sequential manner, as dictionaries are inherently unordered where in list, we can access elements in a sequential manner.\n",
        "\n"
      ],
      "metadata": {
        "id": "60DqIxYUNcW6"
      }
    }
  ]
}